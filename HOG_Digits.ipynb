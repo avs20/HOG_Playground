{
  "nbformat": 4,
  "nbformat_minor": 0,
  "metadata": {
    "colab": {
      "name": "HOG Digits.ipynb",
      "version": "0.3.2",
      "provenance": [],
      "collapsed_sections": [],
      "include_colab_link": true
    },
    "kernelspec": {
      "name": "python3",
      "display_name": "Python 3"
    },
    "accelerator": "GPU"
  },
  "cells": [
    {
      "cell_type": "markdown",
      "metadata": {
        "id": "view-in-github",
        "colab_type": "text"
      },
      "source": [
        "[View in Colaboratory](https://colab.research.google.com/github/avs20/HOG_Playground/blob/master/HOG_Digits.ipynb)"
      ]
    },
    {
      "metadata": {
        "id": "fEIqE4e3ZJda",
        "colab_type": "code",
        "colab": {}
      },
      "cell_type": "code",
      "source": [
        "#install opencv \n",
        "# !apt-get -qq install -y libsm6 libxext6 && pip install -q -U opencv-python\n",
        "# import cv2"
      ],
      "execution_count": 0,
      "outputs": []
    },
    {
      "metadata": {
        "id": "HxkVZgZiaaif",
        "colab_type": "code",
        "colab": {}
      },
      "cell_type": "code",
      "source": [
        "# from google.colab import files\n",
        "\n",
        "# uploaded = files.upload()"
      ],
      "execution_count": 0,
      "outputs": []
    },
    {
      "metadata": {
        "id": "dzM7OO0KZmsS",
        "colab_type": "code",
        "colab": {}
      },
      "cell_type": "code",
      "source": [
        "### TRAIN DIGITS\n",
        "import cv2\n",
        "\n",
        "import numpy as np\n",
        "import matplotlib.pyplot as plt\n",
        "%matplotlib inline\n",
        "\n",
        "\n",
        "\n",
        "SZ = 20\n",
        "CLASS_N = 10\n",
        "\n",
        "def split2d(img, cell_size, flatten=True):\n",
        "    h, w = img.shape[:2]\n",
        "    sx, sy = cell_size\n",
        "    cells = [np.hsplit(row, w//sx) for row in np.vsplit(img, h//sy)]\n",
        "    cells = np.array(cells)\n",
        "    if flatten:\n",
        "        cells = cells.reshape(-1, sy, sx)\n",
        "    return cells\n",
        "\n",
        "def load_digits(fn):\n",
        "    digits_img = cv2.imread(fn, 0)\n",
        "    digits = split2d(digits_img, (SZ, SZ))\n",
        "    labels = np.repeat(np.arange(CLASS_N), len(digits)/CLASS_N)\n",
        "    return digits, labels\n",
        "\n",
        "def deskew(img):\n",
        "    m = cv2.moments(img)\n",
        "    if abs(m['mu02']) < 1e-2:\n",
        "        return img.copy()\n",
        "    skew = m['mu11']/m['mu02']\n",
        "    M = np.float32([[1, skew, -0.5*SZ*skew], [0, 1, 0]])\n",
        "    img = cv2.warpAffine(img, M, (SZ, SZ), flags=cv2.WARP_INVERSE_MAP | cv2.INTER_LINEAR)\n",
        "    return img\n",
        "\n",
        "\n",
        "\n",
        "\n",
        "def preprocess_simple(digits):\n",
        "    return np.float32(digits).reshape(-1, SZ*SZ) / 255.0\n",
        "\n",
        "\n",
        "def get_hog() : \n",
        "    winSize = (20,20)\n",
        "    blockSize = (10,10)\n",
        "    blockStride = (5,5)\n",
        "    cellSize = (10,10)\n",
        "    nbins = 9\n",
        "    derivAperture = 1\n",
        "    winSigma = -1.\n",
        "    histogramNormType = 0\n",
        "    L2HysThreshold = 0.2\n",
        "    gammaCorrection = 1\n",
        "    nlevels = 64\n",
        "    signedGradient = True\n",
        "\n",
        "    hog = cv2.HOGDescriptor(winSize,blockSize,blockStride,cellSize,nbins,derivAperture,winSigma,histogramNormType,L2HysThreshold,gammaCorrection,nlevels, signedGradient)\n",
        "\n",
        "    return hog\n",
        "    affine_flags = cv2.WARP_INVERSE_MAP|cv2.INTER_LINEAR\n",
        "\n",
        "\n",
        "    \n"
      ],
      "execution_count": 0,
      "outputs": []
    },
    {
      "metadata": {
        "id": "o01OSIkrdcuP",
        "colab_type": "text"
      },
      "cell_type": "markdown",
      "source": [
        "## LOADING AND SEEING THE DATA"
      ]
    },
    {
      "metadata": {
        "id": "939bAjQadIu9",
        "colab_type": "code",
        "colab": {
          "base_uri": "https://localhost:8080/",
          "height": 546
        },
        "outputId": "b935e586-c72b-4aaa-f203-d0342f65c32b"
      },
      "cell_type": "code",
      "source": [
        "\n",
        "print('Loading digits from digits.png ... ')\n",
        "# Load data.\n",
        "digits, labels = load_digits('digits.png')\n",
        "# print(digits[0])\n",
        "\n",
        "\n",
        "plt.figure(figsize=(5,5))\n",
        "\n",
        "import random \n",
        "\n",
        "\n",
        "f = plt.figure(figsize=(10,7))\n",
        "\n",
        "for i in range(20):\n",
        "\n",
        "  \n",
        "  index = random.randint(0,digits.shape[0])\n",
        "  plt.subplot( 5, 4, i+1 )\n",
        "  plt.axis('off')\n",
        "  plt.title(labels[index])\n",
        "\n",
        "  plt.imshow(digits[index], cmap=\"gray\")\n",
        "  \n",
        "  \n",
        "plt.tight_layout( w_pad=0.5, h_pad=1.0)\n",
        "\n",
        "plt.show()\n",
        "  \n",
        "\n"
      ],
      "execution_count": 4,
      "outputs": [
        {
          "output_type": "stream",
          "text": [
            "Loading digits from digits.png ... \n"
          ],
          "name": "stdout"
        },
        {
          "output_type": "display_data",
          "data": {
            "text/plain": [
              "<matplotlib.figure.Figure at 0x7f1bb035e9e8>"
            ]
          },
          "metadata": {
            "tags": []
          }
        },
        {
          "output_type": "display_data",
          "data": {
            "image/png": "[encoded data removed]",
            "text/plain": [
              "<matplotlib.figure.Figure at 0x7f1bb0378828>"
            ]
          },
          "metadata": {
            "tags": []
          }
        }
      ]
    },
    {
      "metadata": {
        "id": "mX9Ibr2qide5",
        "colab_type": "text"
      },
      "cell_type": "markdown",
      "source": [
        "## Aligin images to veritical before training "
      ]
    },
    {
      "metadata": {
        "id": "KELDScZNihAk",
        "colab_type": "code",
        "colab": {
          "base_uri": "https://localhost:8080/",
          "height": 530
        },
        "outputId": "9ef663ea-3fc1-487c-9d9a-988eca484cff"
      },
      "cell_type": "code",
      "source": [
        "print('Deskew images ... ')\n",
        "digits_deskewed = list(map(deskew, digits))\n",
        "\n",
        "f = plt.figure(figsize=(10,7))\n",
        "\n",
        "for i in range(20):\n",
        "\n",
        "\n",
        "  plt.subplot( 5, 4, i+1 )\n",
        "  plt.axis('off')\n",
        "\n",
        "  plt.imshow(digits_deskewed[i], cmap=\"gray\")\n",
        "  plt.title(labels[i])\n",
        "\n",
        "plt.tight_layout( w_pad=0.5, h_pad=1.0)\n",
        "\n",
        "plt.show()"
      ],
      "execution_count": 5,
      "outputs": [
        {
          "output_type": "stream",
          "text": [
            "Deskew images ... \n"
          ],
          "name": "stdout"
        },
        {
          "output_type": "display_data",
          "data": {
            "image/png": "[encoded data removed]",
            "text/plain": [
              "<matplotlib.figure.Figure at 0x7f1bbc859ac8>"
            ]
          },
          "metadata": {
            "tags": []
          }
        }
      ]
    },
    {
      "metadata": {
        "id": "as4NWaC2i8sO",
        "colab_type": "text"
      },
      "cell_type": "markdown",
      "source": [
        "## Calculating HOG Descriptor\n",
        "\n"
      ]
    },
    {
      "metadata": {
        "id": "hTKBSCZ4jAN_",
        "colab_type": "code",
        "colab": {
          "base_uri": "https://localhost:8080/",
          "height": 50
        },
        "outputId": "2dd80e1a-a02a-4fd6-eb85-a4d3aa45dc72"
      },
      "cell_type": "code",
      "source": [
        "print('Defining HoG parameters ...')\n",
        "# HoG feature descriptor\n",
        "hog = get_hog();\n",
        "\n",
        "print('Calculating HoG descriptor for every image ... ')\n",
        "hog_descriptors = []\n",
        "for img in digits_deskewed:\n",
        "    hog_descriptors.append(hog.compute(img))\n",
        "hog_descriptors = np.squeeze(hog_descriptors)"
      ],
      "execution_count": 6,
      "outputs": [
        {
          "output_type": "stream",
          "text": [
            "Defining HoG parameters ...\n",
            "Calculating HoG descriptor for every image ... \n"
          ],
          "name": "stdout"
        }
      ]
    },
    {
      "metadata": {
        "id": "TcqOi245jTTf",
        "colab_type": "text"
      },
      "cell_type": "markdown",
      "source": [
        "## Splitting the data into training and test set "
      ]
    },
    {
      "metadata": {
        "id": "6qAIhiarjZrm",
        "colab_type": "code",
        "colab": {
          "base_uri": "https://localhost:8080/",
          "height": 50
        },
        "outputId": "81f26d20-15f8-4f77-9387-b4e7e941f762"
      },
      "cell_type": "code",
      "source": [
        "\n",
        "from sklearn.model_selection import train_test_split\n",
        "\n",
        "X_train, X_test, y_train, y_test = train_test_split(hog_descriptors, labels, test_size = 0.3, random_state = 10)\n",
        "print(\"Training size\", X_train.shape[0])\n",
        "print(\"Testing Size\" , X_test.shape[0])"
      ],
      "execution_count": 7,
      "outputs": [
        {
          "output_type": "stream",
          "text": [
            "Training size 3500\n",
            "Testing Size 1500\n"
          ],
          "name": "stdout"
        }
      ]
    },
    {
      "metadata": {
        "id": "NXA_yZ9AkFV5",
        "colab_type": "text"
      },
      "cell_type": "markdown",
      "source": [
        "## Training the model \n"
      ]
    },
    {
      "metadata": {
        "id": "dYYI_63IkHNc",
        "colab_type": "code",
        "colab": {
          "base_uri": "https://localhost:8080/",
          "height": 218
        },
        "outputId": "26026ad5-ffee-4ae2-93c5-4f82fdce1da8"
      },
      "cell_type": "code",
      "source": [
        "from sklearn.svm import SVC\n",
        "\n",
        "model = SVC(kernel = \"rbf\", C = 50, gamma =0.50625)\n",
        "\n",
        "model.fit(X_train, y_train)\n",
        "preds = model.predict(X_test)\n",
        "\n",
        "\n",
        "from sklearn.metrics import confusion_matrix\n",
        "\n",
        "mat = confusion_matrix(y_test, preds, labels = np.arange(0,10))\n",
        "print(\"Confusion matrix\")\n",
        "print(mat)\n",
        "\n",
        "print(\"Accuracy:\" , model.score(X_test, y_test))"
      ],
      "execution_count": 8,
      "outputs": [
        {
          "output_type": "stream",
          "text": [
            "Confusion matrix\n",
            "[[150   0   0   0   0   0   1   0   0   0]\n",
            " [  0 142   1   0   0   0   0   1   0   0]\n",
            " [  0   1 164   0   0   0   0   0   1   0]\n",
            " [  0   0   1 148   0   0   0   1   1   0]\n",
            " [  0   0   0   0 147   0   1   0   0   3]\n",
            " [  0   0   0   1   0 142   0   1   1   0]\n",
            " [  0   0   1   0   0   0 128   0   0   0]\n",
            " [  0   4   0   1   0   0   0 148   1   3]\n",
            " [  0   0   0   0   0   0   0   0 160   1]\n",
            " [  1   0   0   0   1   0   0   2   1 140]]\n",
            "Accuracy: 0.9793333333333333\n"
          ],
          "name": "stdout"
        }
      ]
    },
    {
      "metadata": {
        "id": "9erHoyB4WwQ2",
        "colab_type": "text"
      },
      "cell_type": "markdown",
      "source": [
        "We got an accuracy of 97.9% on a simple SVM algorithm with a simple dataset. \n",
        "This tells that the HOG descriptors work very well for different shapes and sizes. \n",
        "\n",
        "This is easier to code and work with. "
      ]
    },
    {
      "metadata": {
        "id": "T3cxcEpzbpcE",
        "colab_type": "text"
      },
      "cell_type": "markdown",
      "source": [
        "## References :\n",
        "\n",
        "1. https://www.learnopencv.com/handwritten-digits-classification-an-opencv-c-python-tutorial/"
      ]
    },
    {
      "metadata": {
        "id": "I5WiZRTSZgUb",
        "colab_type": "code",
        "colab": {}
      },
      "cell_type": "code",
      "source": [
        ""
      ],
      "execution_count": 0,
      "outputs": []
    }
  ]
}