{
  "nbformat": 4,
  "nbformat_minor": 0,
  "metadata": {
    "colab": {
      "name": "CompetitionCode.ipynb",
      "version": "0.3.2",
      "provenance": [],
      "include_colab_link": true
    },
    "kernelspec": {
      "name": "python3",
      "display_name": "Python 3"
    },
    "accelerator": "GPU"
  },
  "cells": [
    {
      "cell_type": "markdown",
      "metadata": {
        "id": "view-in-github",
        "colab_type": "text"
      },
      "source": [
        "[View in Colaboratory](https://colab.research.google.com/github/avs20/HOG_Playground/blob/master/VistaCompetitionCode.ipynb)"
      ]
    },
    {
      "metadata": {
        "id": "Mk5FLXBEXRN7",
        "colab_type": "code",
        "colab": {
          "base_uri": "https://localhost:8080/",
          "height": 134
        },
        "outputId": "c285eca4-df76-4671-8d1f-e0aba168f5eb"
      },
      "cell_type": "code",
      "source": [
        "!git clone https://github.com/davisking/dlib.git dlib/\n",
        "mport \n",
        "!cd dlib/\n",
        "!python setup.py install –yes USE_AVX_INSTRUCTIONS –yes DLIB_USE_CUDA"
      ],
      "execution_count": 4,
      "outputs": [
        {
          "output_type": "stream",
          "text": [
            "Cloning into 'dlib'...\n",
            "remote: Counting objects: 46611, done.\u001b[K\n",
            "remote: Compressing objects: 100% (39/39), done.\u001b[K\n",
            "remote: Total 46611 (delta 28), reused 43 (delta 28), pack-reused 46544\u001b[K\n",
            "Receiving objects: 100% (46611/46611), 21.69 MiB | 9.91 MiB/s, done.\n",
            "Resolving deltas: 100% (32760/32760), done.\n",
            "python3: can't open file 'setup.py': [Errno 2] No such file or directory\n"
          ],
          "name": "stdout"
        }
      ]
    },
    {
      "metadata": {
        "id": "_V-nY5ZUdcHn",
        "colab_type": "code",
        "colab": {}
      },
      "cell_type": "code",
      "source": [
        "!wget https://developer.nvidia.com/compute/cuda/9.2/Prod/local_installers/cuda-repo-ubuntu1604-9-2-local_9.2.88-1_amd64 -O cuda-repo-ubuntu1604-9-2-local_9.2.88-1_amd64.deb\n"
      ],
      "execution_count": 0,
      "outputs": []
    },
    {
      "metadata": {
        "id": "a5gyx8lAjVK9",
        "colab_type": "code",
        "colab": {
          "base_uri": "https://localhost:8080/",
          "height": 84
        },
        "outputId": "812c8505-231d-4281-8acb-36e05131f877"
      },
      "cell_type": "code",
      "source": [
        "os.chdir('dlib')\n",
        "!dpkg -i cuda-repo-ubuntu1604-9-2-local_9.2.88-1_amd64.deb\n"
      ],
      "execution_count": 29,
      "outputs": [
        {
          "output_type": "stream",
          "text": [
            "(Reading database ... 89139 files and directories currently installed.)\n",
            "Preparing to unpack cuda-repo-ubuntu1604-9-2-local_9.2.88-1_amd64.deb ...\n",
            "Unpacking cuda-repo-ubuntu1604-9-2-local (9.2.88-1) over (9.2.88-1) ...\n",
            "Setting up cuda-repo-ubuntu1604-9-2-local (9.2.88-1) ...\n"
          ],
          "name": "stdout"
        }
      ]
    },
    {
      "metadata": {
        "id": "FUOqGRHljvF_",
        "colab_type": "code",
        "colab": {
          "base_uri": "https://localhost:8080/",
          "height": 34
        },
        "outputId": "3f3c0d60-a3f7-410e-e919-d4a68fc33bf5"
      },
      "cell_type": "code",
      "source": [
        "!apt-key add /var/cuda-repo-9-2-local/7fa2af80.pub\n"
      ],
      "execution_count": 30,
      "outputs": [
        {
          "output_type": "stream",
          "text": [
            "OK\r\n"
          ],
          "name": "stdout"
        }
      ]
    },
    {
      "metadata": {
        "id": "iMhPf6R2jxJ0",
        "colab_type": "code",
        "colab": {
          "base_uri": "https://localhost:8080/",
          "height": 168
        },
        "outputId": "2ce1e82b-2acf-4bfb-a631-8713acf714b8"
      },
      "cell_type": "code",
      "source": [
        "!apt-get update\n"
      ],
      "execution_count": 31,
      "outputs": [
        {
          "output_type": "stream",
          "text": [
            "\r0% [Working]\r            \rGet:1 file:/var/cuda-repo-9-2-local  InRelease\r\n",
            "\r            \rIgn:1 file:/var/cuda-repo-9-2-local  InRelease\r\n",
            "Get:2 file:/var/cuda-repo-9-2-local  Release [574 B]\n",
            "Get:2 file:/var/cuda-repo-9-2-local  Release [574 B]\n",
            "Hit:4 http://security.ubuntu.com/ubuntu artful-security InRelease\n",
            "Hit:5 http://archive.ubuntu.com/ubuntu artful InRelease\n",
            "Hit:6 http://archive.ubuntu.com/ubuntu artful-updates InRelease\n",
            "Hit:7 http://archive.ubuntu.com/ubuntu artful-backports InRelease\n",
            "Reading package lists... Done\n"
          ],
          "name": "stdout"
        }
      ]
    },
    {
      "metadata": {
        "id": "mbm7tWHjjy9N",
        "colab_type": "code",
        "colab": {
          "base_uri": "https://localhost:8080/",
          "height": 101
        },
        "outputId": "f299b75d-03f2-4b9c-a25c-0fe5ffbc3eed"
      },
      "cell_type": "code",
      "source": [
        "!apt-get install cuda"
      ],
      "execution_count": 32,
      "outputs": [
        {
          "output_type": "stream",
          "text": [
            "Reading package lists... Done\n",
            "Building dependency tree       \n",
            "Reading state information... Done\n",
            "cuda is already the newest version (9.2.88-1).\n",
            "0 upgraded, 0 newly installed, 0 to remove and 0 not upgraded.\n"
          ],
          "name": "stdout"
        }
      ]
    },
    {
      "metadata": {
        "id": "gEDoicYscLIo",
        "colab_type": "code",
        "colab": {
          "base_uri": "https://localhost:8080/",
          "height": 2322
        },
        "outputId": "a26513df-e7f8-41cb-873b-0cc8848ce650"
      },
      "cell_type": "code",
      "source": [
        "import os \n",
        "# os.chdir('dlib')\n",
        "!python setup.py install "
      ],
      "execution_count": 33,
      "outputs": [
        {
          "output_type": "stream",
          "text": [
            "running install\n",
            "running bdist_egg\n",
            "running egg_info\n",
            "writing dlib.egg-info/PKG-INFO\n",
            "writing dependency_links to dlib.egg-info/dependency_links.txt\n",
            "writing top-level names to dlib.egg-info/top_level.txt\n",
            "package init file 'dlib/__init__.py' not found (or not a regular file)\n",
            "reading manifest file 'dlib.egg-info/SOURCES.txt'\n",
            "reading manifest template 'MANIFEST.in'\n",
            "writing manifest file 'dlib.egg-info/SOURCES.txt'\n",
            "installing library code to build/bdist.linux-x86_64/egg\n",
            "running install_lib\n",
            "running build_py\n",
            "running build_ext\n",
            "Building extension for Python 3.6.3 (default, Oct  3 2017, 21:45:48) \n",
            "Invoking CMake setup: 'cmake /content/dlib/tools/python -DCMAKE_LIBRARY_OUTPUT_DIRECTORY=/content/dlib/build/lib.linux-x86_64-3.6 -DPYTHON_EXECUTABLE=/usr/bin/python3 -DCMAKE_BUILD_TYPE=Release'\n",
            "-- pybind11 v2.2.2\n",
            "-- Using CMake version: 3.9.1\n",
            "-- Compiling dlib version: 19.15.99\n",
            "-- SSE4 instructions can be executed by the host processor.\n",
            "-- AVX instructions can be executed by the host processor.\n",
            "-- Enabling AVX instructions\n",
            "-- Looking for IceConnectionNumber in ICE\n",
            "-- Looking for IceConnectionNumber in ICE - found\n",
            "-- Searching for BLAS and LAPACK\n",
            "-- Searching for BLAS and LAPACK\n",
            "-- Checking for module 'cblas'\n",
            "--   No package 'cblas' found\n",
            "-- Checking for module 'lapack'\n",
            "--   Found lapack, version 3.10.3\n",
            "-- Found OpenBLAS library\n",
            "-- Looking for sgetrf_single\n",
            "-- Looking for sgetrf_single - not found\n",
            "-- Found LAPACK library\n",
            "-- C++11 activated.\n",
            "-- Configuring done\n",
            "-- Generating done\n",
            "-- Build files have been written to: /content/dlib/build/temp.linux-x86_64-3.6\n",
            "Invoking CMake build: 'cmake --build . --config Release -- -j2'\n",
            "[  1%] \u001b[32mBuilding CXX object dlib_build/CMakeFiles/dlib.dir/global_optimization/global_function_search.cpp.o\u001b[0m\n",
            "[  2%] \u001b[32mBuilding CXX object dlib_build/CMakeFiles/dlib.dir/svm/auto.cpp.o\u001b[0m\n",
            "[  3%] \u001b[32mBuilding CXX object dlib_build/CMakeFiles/dlib.dir/sockets/sockets_kernel_1.cpp.o\u001b[0m\n",
            "[  4%] \u001b[32mBuilding CXX object dlib_build/CMakeFiles/dlib.dir/bsp/bsp.cpp.o\u001b[0m\n",
            "[  5%] \u001b[32mBuilding CXX object dlib_build/CMakeFiles/dlib.dir/dir_nav/dir_nav_kernel_1.cpp.o\u001b[0m\n",
            "[  6%] \u001b[32mBuilding CXX object dlib_build/CMakeFiles/dlib.dir/dir_nav/dir_nav_kernel_2.cpp.o\u001b[0m\n",
            "[  8%] \u001b[32mBuilding CXX object dlib_build/CMakeFiles/dlib.dir/dir_nav/dir_nav_extensions.cpp.o\u001b[0m\n",
            "[  9%] \u001b[32mBuilding CXX object dlib_build/CMakeFiles/dlib.dir/linker/linker_kernel_1.cpp.o\u001b[0m\n",
            "[ 10%] \u001b[32mBuilding CXX object dlib_build/CMakeFiles/dlib.dir/logger/extra_logger_headers.cpp.o\u001b[0m\n",
            "[ 11%] \u001b[32mBuilding CXX object dlib_build/CMakeFiles/dlib.dir/logger/logger_kernel_1.cpp.o\u001b[0m\n",
            "[ 12%] \u001b[32mBuilding CXX object dlib_build/CMakeFiles/dlib.dir/logger/logger_config_file.cpp.o\u001b[0m\n",
            "[ 13%] \u001b[32mBuilding CXX object dlib_build/CMakeFiles/dlib.dir/misc_api/misc_api_kernel_1.cpp.o\u001b[0m\n",
            "[ 15%] \u001b[32mBuilding CXX object dlib_build/CMakeFiles/dlib.dir/misc_api/misc_api_kernel_2.cpp.o\u001b[0m\n",
            "[ 16%] \u001b[32mBuilding CXX object dlib_build/CMakeFiles/dlib.dir/sockets/sockets_extensions.cpp.o\u001b[0m\n",
            "[ 17%] \u001b[32mBuilding CXX object dlib_build/CMakeFiles/dlib.dir/sockets/sockets_kernel_2.cpp.o\u001b[0m\n",
            "[ 18%] \u001b[32mBuilding CXX object dlib_build/CMakeFiles/dlib.dir/sockstreambuf/sockstreambuf.cpp.o\u001b[0m\n",
            "[ 19%] \u001b[32mBuilding CXX object dlib_build/CMakeFiles/dlib.dir/sockstreambuf/sockstreambuf_unbuffered.cpp.o\u001b[0m\n",
            "[ 20%] \u001b[32mBuilding CXX object dlib_build/CMakeFiles/dlib.dir/server/server_kernel.cpp.o\u001b[0m\n",
            "[ 22%] \u001b[32mBuilding CXX object dlib_build/CMakeFiles/dlib.dir/server/server_iostream.cpp.o\u001b[0m\n",
            "[ 23%] \u001b[32mBuilding CXX object dlib_build/CMakeFiles/dlib.dir/server/server_http.cpp.o\u001b[0m\n",
            "[ 24%] \u001b[32mBuilding CXX object dlib_build/CMakeFiles/dlib.dir/threads/multithreaded_object_extension.cpp.o\u001b[0m\n",
            "[ 25%] \u001b[32mBuilding CXX object dlib_build/CMakeFiles/dlib.dir/threads/threaded_object_extension.cpp.o\u001b[0m\n",
            "[ 26%] \u001b[32mBuilding CXX object dlib_build/CMakeFiles/dlib.dir/threads/threads_kernel_1.cpp.o\u001b[0m\n",
            "[ 27%] \u001b[32mBuilding CXX object dlib_build/CMakeFiles/dlib.dir/threads/threads_kernel_2.cpp.o\u001b[0m\n",
            "[ 29%] \u001b[32mBuilding CXX object dlib_build/CMakeFiles/dlib.dir/threads/threads_kernel_shared.cpp.o\u001b[0m\n",
            "[ 30%] \u001b[32mBuilding CXX object dlib_build/CMakeFiles/dlib.dir/threads/thread_pool_extension.cpp.o\u001b[0m\n",
            "[ 31%] \u001b[32mBuilding CXX object dlib_build/CMakeFiles/dlib.dir/threads/async.cpp.o\u001b[0m\n",
            "[ 32%] \u001b[32mBuilding CXX object dlib_build/CMakeFiles/dlib.dir/timer/timer.cpp.o\u001b[0m\n",
            "[ 33%] \u001b[32mBuilding CXX object dlib_build/CMakeFiles/dlib.dir/stack_trace.cpp.o\u001b[0m\n",
            "[ 34%] \u001b[32mBuilding CXX object dlib_build/CMakeFiles/dlib.dir/cuda/cpu_dlib.cpp.o\u001b[0m\n",
            "[ 36%] \u001b[32mBuilding CXX object dlib_build/CMakeFiles/dlib.dir/cuda/tensor_tools.cpp.o\u001b[0m\n",
            "[ 37%] \u001b[32mBuilding CXX object dlib_build/CMakeFiles/dlib.dir/gui_widgets/fonts.cpp.o\u001b[0m\n",
            "[ 38%] \u001b[32mBuilding CXX object dlib_build/CMakeFiles/dlib.dir/gui_widgets/widgets.cpp.o\u001b[0m\n",
            "[ 39%] \u001b[32mBuilding CXX object dlib_build/CMakeFiles/dlib.dir/gui_widgets/drawable.cpp.o\u001b[0m\n",
            "[ 40%] \u001b[32mBuilding CXX object dlib_build/CMakeFiles/dlib.dir/gui_widgets/canvas_drawing.cpp.o\u001b[0m\n",
            "[ 41%] \u001b[32mBuilding CXX object dlib_build/CMakeFiles/dlib.dir/gui_widgets/style.cpp.o\u001b[0m\n",
            "[ 43%] \u001b[32mBuilding CXX object dlib_build/CMakeFiles/dlib.dir/gui_widgets/base_widgets.cpp.o\u001b[0m\n",
            "[ 44%] \u001b[32mBuilding CXX object dlib_build/CMakeFiles/dlib.dir/gui_core/gui_core_kernel_1.cpp.o\u001b[0m\n",
            "[ 45%] \u001b[32mBuilding CXX object dlib_build/CMakeFiles/dlib.dir/gui_core/gui_core_kernel_2.cpp.o\u001b[0m\n",
            "[ 46%] \u001b[32mBuilding CXX object dlib_build/CMakeFiles/dlib.dir/image_loader/png_loader.cpp.o\u001b[0m\n",
            "[ 47%] \u001b[32mBuilding CXX object dlib_build/CMakeFiles/dlib.dir/image_saver/save_png.cpp.o\u001b[0m\n",
            "[ 48%] \u001b[32mBuilding CXX object dlib_build/CMakeFiles/dlib.dir/image_loader/jpeg_loader.cpp.o\u001b[0m\n",
            "[ 50%] \u001b[32mBuilding CXX object dlib_build/CMakeFiles/dlib.dir/image_saver/save_jpeg.cpp.o\u001b[0m\n",
            "[ 51%] \u001b[32m\u001b[1mLinking CXX static library libdlib.a\u001b[0m\n",
            "[ 68%] Built target dlib\n",
            "\u001b[35m\u001b[1mScanning dependencies of target dlib_python\u001b[0m\n",
            "[ 69%] \u001b[32mBuilding CXX object CMakeFiles/dlib_python.dir/src/dlib.cpp.o\u001b[0m\n",
            "[ 70%] \u001b[32mBuilding CXX object CMakeFiles/dlib_python.dir/src/matrix.cpp.o\u001b[0m\n",
            "[ 72%] \u001b[32mBuilding CXX object CMakeFiles/dlib_python.dir/src/vector.cpp.o\u001b[0m\n",
            "[ 73%] \u001b[32mBuilding CXX object CMakeFiles/dlib_python.dir/src/svm_c_trainer.cpp.o\u001b[0m\n",
            "[ 74%] \u001b[32mBuilding CXX object CMakeFiles/dlib_python.dir/src/svm_rank_trainer.cpp.o\u001b[0m\n",
            "[ 75%] \u001b[32mBuilding CXX object CMakeFiles/dlib_python.dir/src/decision_functions.cpp.o\u001b[0m\n",
            "[ 76%] \u001b[32mBuilding CXX object CMakeFiles/dlib_python.dir/src/other.cpp.o\u001b[0m\n",
            "[ 77%] \u001b[32mBuilding CXX object CMakeFiles/dlib_python.dir/src/basic.cpp.o\u001b[0m\n",
            "[ 79%] \u001b[32mBuilding CXX object CMakeFiles/dlib_python.dir/src/cca.cpp.o\u001b[0m\n",
            "[ 80%] \u001b[32mBuilding CXX object CMakeFiles/dlib_python.dir/src/sequence_segmenter.cpp.o\u001b[0m\n",
            "[ 81%] \u001b[32mBuilding CXX object CMakeFiles/dlib_python.dir/src/svm_struct.cpp.o\u001b[0m\n",
            "[ 82%] \u001b[32mBuilding CXX object CMakeFiles/dlib_python.dir/src/image.cpp.o\u001b[0m\n",
            "[ 83%] \u001b[32mBuilding CXX object CMakeFiles/dlib_python.dir/src/image2.cpp.o\u001b[0m\n",
            "[ 84%] \u001b[32mBuilding CXX object CMakeFiles/dlib_python.dir/src/image3.cpp.o\u001b[0m\n",
            "[ 86%] \u001b[32mBuilding CXX object CMakeFiles/dlib_python.dir/src/image4.cpp.o\u001b[0m\n",
            "[ 87%] \u001b[32mBuilding CXX object CMakeFiles/dlib_python.dir/src/rectangles.cpp.o\u001b[0m\n",
            "[ 88%] \u001b[32mBuilding CXX object CMakeFiles/dlib_python.dir/src/object_detection.cpp.o\u001b[0m\n",
            "[ 89%] \u001b[32mBuilding CXX object CMakeFiles/dlib_python.dir/src/shape_predictor.cpp.o\u001b[0m\n",
            "[ 90%] \u001b[32mBuilding CXX object CMakeFiles/dlib_python.dir/src/correlation_tracker.cpp.o\u001b[0m\n",
            "[ 91%] \u001b[32mBuilding CXX object CMakeFiles/dlib_python.dir/src/face_recognition.cpp.o\u001b[0m\n",
            "[ 93%] \u001b[32mBuilding CXX object CMakeFiles/dlib_python.dir/src/cnn_face_detector.cpp.o\u001b[0m\n",
            "[ 94%] \u001b[32mBuilding CXX object CMakeFiles/dlib_python.dir/src/global_optimization.cpp.o\u001b[0m\n",
            "[ 95%] \u001b[32mBuilding CXX object CMakeFiles/dlib_python.dir/src/image_dataset_metadata.cpp.o\u001b[0m\n",
            "[ 96%] \u001b[32mBuilding CXX object CMakeFiles/dlib_python.dir/src/numpy_returns.cpp.o\u001b[0m\n",
            "[ 97%] \u001b[32mBuilding CXX object CMakeFiles/dlib_python.dir/src/line.cpp.o\u001b[0m\n",
            "[ 98%] \u001b[32mBuilding CXX object CMakeFiles/dlib_python.dir/src/gui.cpp.o\u001b[0m\n",
            "[100%] \u001b[32m\u001b[1mLinking CXX shared module /content/dlib/build/lib.linux-x86_64-3.6/dlib.cpython-36m-x86_64-linux-gnu.so\u001b[0m\n",
            "[100%] Built target dlib_python\n",
            "creating build/bdist.linux-x86_64\n",
            "creating build/bdist.linux-x86_64/egg\n",
            "copying build/lib.linux-x86_64-3.6/dlib.cpython-36m-x86_64-linux-gnu.so -> build/bdist.linux-x86_64/egg\n",
            "creating stub loader for dlib.cpython-36m-x86_64-linux-gnu.so\n",
            "byte-compiling build/bdist.linux-x86_64/egg/dlib.py to dlib.cpython-36.pyc\n",
            "creating build/bdist.linux-x86_64/egg/EGG-INFO\n",
            "copying dlib.egg-info/PKG-INFO -> build/bdist.linux-x86_64/egg/EGG-INFO\n",
            "copying dlib.egg-info/SOURCES.txt -> build/bdist.linux-x86_64/egg/EGG-INFO\n",
            "copying dlib.egg-info/dependency_links.txt -> build/bdist.linux-x86_64/egg/EGG-INFO\n",
            "copying dlib.egg-info/not-zip-safe -> build/bdist.linux-x86_64/egg/EGG-INFO\n",
            "copying dlib.egg-info/top_level.txt -> build/bdist.linux-x86_64/egg/EGG-INFO\n",
            "writing build/bdist.linux-x86_64/egg/EGG-INFO/native_libs.txt\n",
            "creating dist\n",
            "creating 'dist/dlib-19.15.99-py3.6-linux-x86_64.egg' and adding 'build/bdist.linux-x86_64/egg' to it\n",
            "removing 'build/bdist.linux-x86_64/egg' (and everything under it)\n",
            "Processing dlib-19.15.99-py3.6-linux-x86_64.egg\n",
            "creating /usr/local/lib/python3.6/dist-packages/dlib-19.15.99-py3.6-linux-x86_64.egg\n",
            "Extracting dlib-19.15.99-py3.6-linux-x86_64.egg to /usr/local/lib/python3.6/dist-packages\n",
            "Adding dlib 19.15.99 to easy-install.pth file\n",
            "\n",
            "Installed /usr/local/lib/python3.6/dist-packages/dlib-19.15.99-py3.6-linux-x86_64.egg\n",
            "Processing dependencies for dlib==19.15.99\n",
            "Finished processing dependencies for dlib==19.15.99\n"
          ],
          "name": "stdout"
        }
      ]
    },
    {
      "metadata": {
        "id": "JPY4dxnPm75X",
        "colab_type": "code",
        "colab": {
          "base_uri": "https://localhost:8080/",
          "height": 286
        },
        "outputId": "e22aff9d-b41e-40e8-8c07-4e5a94061537"
      },
      "cell_type": "code",
      "source": [
        "!ls"
      ],
      "execution_count": 40,
      "outputs": [
        {
          "output_type": "stream",
          "text": [
            "build\r\n",
            "CMakeLists.txt\r\n",
            "cuda-repo-ubuntu1604-9-2-local_9.2.88-1_amd64.deb\r\n",
            "dist\r\n",
            "dlib\r\n",
            "dlib.egg-info\r\n",
            "docs\r\n",
            "examples\r\n",
            "ISSUE_TEMPLATE.md\r\n",
            "MANIFEST.in\r\n",
            "mmod_human_face_detector.dat.bz2\r\n",
            "python_examples\r\n",
            "README.md\r\n",
            "setup.py\r\n",
            "tools\r\n",
            "train-file\r\n"
          ],
          "name": "stdout"
        }
      ]
    },
    {
      "metadata": {
        "id": "4rmFjNIcXU65",
        "colab_type": "code",
        "colab": {}
      },
      "cell_type": "code",
      "source": [
        "import dlib"
      ],
      "execution_count": 0,
      "outputs": []
    },
    {
      "metadata": {
        "id": "5f6ltBoeXoDC",
        "colab_type": "code",
        "colab": {
          "base_uri": "https://localhost:8080/",
          "height": 202
        },
        "outputId": "73a3fcc1-86ed-40ba-e3db-a36628568c15"
      },
      "cell_type": "code",
      "source": [
        "#Get the Data \n",
        "# !wget https://datahack.analyticsvidhya.com/contest/vista-codefest-computer-vision/download/train-file\n",
        "!wget http://dlib.net/files/mmod_human_face_detector.dat.bz2\n"
      ],
      "execution_count": 14,
      "outputs": [
        {
          "output_type": "stream",
          "text": [
            "--2018-08-31 05:45:07--  http://dlib.net/files/mmod_human_face_detector.dat.bz2\r\n",
            "Resolving dlib.net (dlib.net)... 107.180.26.78\n",
            "Connecting to dlib.net (dlib.net)|107.180.26.78|:80... connected.\n",
            "HTTP request sent, awaiting response... 200 OK\n",
            "Length: 694709 (678K)\n",
            "Saving to: ‘mmod_human_face_detector.dat.bz2’\n",
            "\n",
            "mmod_human_face_det 100%[===================>] 678.43K   479KB/s    in 1.4s    \n",
            "\n",
            "2018-08-31 05:45:09 (479 KB/s) - ‘mmod_human_face_detector.dat.bz2’ saved [694709/694709]\n",
            "\n"
          ],
          "name": "stdout"
        }
      ]
    },
    {
      "metadata": {
        "id": "qLePzVReX0vx",
        "colab_type": "code",
        "colab": {
          "base_uri": "https://localhost:8080/",
          "height": 67
        },
        "outputId": "a00e8c68-42b7-4866-b753-e7fb52295d62"
      },
      "cell_type": "code",
      "source": [
        "#read the fil\n",
        "# os.chdir('../')\n",
        "!ls\n",
        "!bzip2 -d mmod_human_face_detector.dat.bz2\n",
        "!ls"
      ],
      "execution_count": 22,
      "outputs": [
        {
          "output_type": "stream",
          "text": [
            "dlib  mmod_human_face_detector.dat  sample_data\n",
            "bzip2: Can't open input file mmod_human_face_detector.dat.bz2: No such file or directory.\n",
            "dlib  mmod_human_face_detector.dat  sample_data\n"
          ],
          "name": "stdout"
        }
      ]
    },
    {
      "metadata": {
        "id": "mC6IsL-cholR",
        "colab_type": "code",
        "colab": {
          "base_uri": "https://localhost:8080/",
          "height": 34
        },
        "outputId": "1427ccd6-362f-40ff-ffc7-ad30831940b2"
      },
      "cell_type": "code",
      "source": [
        "!mkdir models \n",
        "!mv mmod_human_face_detector.dat ./models/mmod_human_face_detector.dat\n",
        "!ls"
      ],
      "execution_count": 23,
      "outputs": [
        {
          "output_type": "stream",
          "text": [
            "dlib  models  sample_data\r\n"
          ],
          "name": "stdout"
        }
      ]
    },
    {
      "metadata": {
        "id": "gPAbxU_WoUMC",
        "colab_type": "code",
        "colab": {}
      },
      "cell_type": "code",
      "source": [
        "!pip install -U -q PyDrive\n",
        "\n",
        "from pydrive.auth import GoogleAuth\n",
        "from pydrive.drive import GoogleDrive\n",
        "from google.colab import auth\n",
        "from oauth2client.client import GoogleCredentials\n",
        " \n",
        "# 1. Authenticate and create the PyDrive client.\n",
        "auth.authenticate_user()\n",
        "gauth = GoogleAuth()\n",
        "gauth.credentials = GoogleCredentials.get_application_default()\n",
        "drive = GoogleDrive(gauth)\n"
      ],
      "execution_count": 0,
      "outputs": []
    },
    {
      "metadata": {
        "id": "gPHuwAAIosu4",
        "colab_type": "code",
        "colab": {
          "base_uri": "https://localhost:8080/",
          "height": 50
        },
        "outputId": "4fe61f51-861c-4ea7-b1b4-b5b7ff2b6cb3"
      },
      "cell_type": "code",
      "source": [
        "file_list = drive.ListFile({'q': \"'1qErnIcUy-6CaHNrCZbch1sLvthEfsLMb' in parents and trashed=false\"}).GetList()\n",
        "for file1 in file_list:\n",
        "  print('title: %s, id: %s' % (file1['title'], file1['id']))"
      ],
      "execution_count": 10,
      "outputs": [
        {
          "output_type": "stream",
          "text": [
            "title: train_HNzkrPW.zip, id: 18w5yFqkAgqhWXmzPLoSL5zLoZGVt9FXV\n",
            "title: test_Rj9YEaI.csv, id: 19_gyxB5QOj5ak-tGgER23qGEz06lhY91\n"
          ],
          "name": "stdout"
        }
      ]
    },
    {
      "metadata": {
        "id": "GhImG7ffpQJV",
        "colab_type": "code",
        "colab": {}
      },
      "cell_type": "code",
      "source": [
        "zipfile = drive.CreateFile({'id': '18w5yFqkAgqhWXmzPLoSL5zLoZGVt9FXV'})\n",
        "zipfile.GetContentFile('data.zip')"
      ],
      "execution_count": 0,
      "outputs": []
    },
    {
      "metadata": {
        "id": "uOnpoNMKt6z1",
        "colab_type": "code",
        "colab": {}
      },
      "cell_type": "code",
      "source": [
        "testFile = drive.CreateFile({'id': '19_gyxB5QOj5ak-tGgER23qGEz06lhY91'})\n",
        "testFile.GetContentFile('test.csv')"
      ],
      "execution_count": 0,
      "outputs": []
    },
    {
      "metadata": {
        "id": "sfzIO-6NpbCV",
        "colab_type": "code",
        "colab": {}
      },
      "cell_type": "code",
      "source": [
        "!ls\n",
        "!unzip data.zip\n",
        "!ls"
      ],
      "execution_count": 0,
      "outputs": []
    },
    {
      "metadata": {
        "id": "iOyTPHACptwU",
        "colab_type": "code",
        "colab": {}
      },
      "cell_type": "code",
      "source": [
        "!ls image_data"
      ],
      "execution_count": 0,
      "outputs": []
    },
    {
      "metadata": {
        "id": "UN8BS2a2XbzF",
        "colab_type": "code",
        "colab": {}
      },
      "cell_type": "code",
      "source": [
        "import dlib \n",
        "import os \n",
        "import sys\n",
        "import pandas as pd \n",
        "import numpy as np \n",
        "import glob\n",
        "\n"
      ],
      "execution_count": 0,
      "outputs": []
    },
    {
      "metadata": {
        "id": "1nPpqZhwYtgX",
        "colab_type": "code",
        "colab": {
          "base_uri": "https://localhost:8080/",
          "height": 185
        },
        "outputId": "1ccf9027-2a31-4d30-9d2f-ba24578b80b9"
      },
      "cell_type": "code",
      "source": [
        "cnn_face_detector = dlib.cnn_face_detection_model_v1('./models/mmod_human_face_detector.dat')\n",
        "\n",
        "output = []\n",
        "\n",
        "train_data  = pd.read_csv('train.csv')\n",
        "files = list(train_data['Name'])\n",
        "\n",
        "path = './image_data/'\n",
        "# file_list = glob.glob('./image_data/*.jpg')\n",
        "print(\"Files found :\", len(file_list))\n",
        "# for filename in file_list[:5]:\n",
        "for filename in files[:5]:\n",
        "  img = dlib.load_rgb_image(path + filename)\n",
        "  dets = cnn_face_detector(img,1)\n",
        "  id = filename.split('/')[-1]\n",
        "  output.append({'Name':id,\n",
        "                 'HeadCount': len(dets)})\n",
        "\n",
        "print(len(output))\n",
        "df = pd.DataFrame(output)\n",
        "df['HeadCount'] = df['HeadCount'].astype(int)\n",
        "df.to_csv('faces_found.csv',index=False)\n",
        "# df.head()\n",
        "\n",
        "final_df = pd.merge(train_data, df, on=\"Name\", how=\"left\")\n",
        "final_df['diff'] = final_df.HeadCount_x - final_df.HeadCount_y\n",
        "print(final_df.head())\n",
        "print(final_df['diff'].sum())\n",
        "x = final_df[final_df['diff']!=0]\n",
        "\n",
        "print(x.shape)\n",
        "\n",
        "\n",
        "\n",
        "  "
      ],
      "execution_count": 24,
      "outputs": [
        {
          "output_type": "stream",
          "text": [
            "Files found : 8196\n",
            "5\n",
            "        Name  HeadCount_x  HeadCount_y  diff\n",
            "0  10001.jpg            4          3.0   1.0\n",
            "1  10002.jpg            4          4.0   0.0\n",
            "2  10003.jpg            2          2.0   0.0\n",
            "3  10004.jpg            3          3.0   0.0\n",
            "4  10006.jpg            4          4.0   0.0\n",
            "1.0\n",
            "(5729, 4)\n"
          ],
          "name": "stdout"
        }
      ]
    },
    {
      "metadata": {
        "id": "6KxfaHDpuEFZ",
        "colab_type": "code",
        "colab": {
          "base_uri": "https://localhost:8080/",
          "height": 1697
        },
        "outputId": "962c6d9e-a70d-4949-a614-4ad5ae2ed9c3"
      },
      "cell_type": "code",
      "source": [
        "import time \n",
        "output = []\n",
        "\n",
        "train_data  = pd.read_csv('test.csv')\n",
        "files = list(train_data['Name'])\n",
        "files = files[1499:]\n",
        "path = './image_data/'\n",
        "# file_list = glob.glob('./image_data/*.jpg')\n",
        "print(\"Files found :\", len(files))\n",
        "# for filename in file_list[:5]:\n",
        "start = time.clock()\n",
        "for index, filename in enumerate(files):\n",
        "  img = dlib.load_rgb_image(path + filename)\n",
        "  dets = cnn_face_detector(img,1)\n",
        "  output.append({'Name':filename,\n",
        "                 'HeadCount': len(dets)})\n",
        "  \n",
        "  if index % 20 == 0:\n",
        "    \n",
        "    print(\"Files completed\" , index)\n",
        "    tt = time.clock() - start\n",
        "    print(\"time elapsed \", tt)\n",
        "    start = time.clock()\n",
        "  if index % 100 == 0:\n",
        "    df = pd.DataFrame(output)\n",
        "    df['HeadCount'] = df['HeadCount'].astype(int)\n",
        "    df.to_csv('test_faces_found2.csv',index=False)\n",
        "\n",
        "    \n",
        "print(len(output))\n",
        "df = pd.DataFrame(output)\n",
        "df['HeadCount'] = df['HeadCount'].astype(int)\n",
        "df.to_csv('test_faces_found2.csv',index=False)\n",
        "# df.head()\n",
        "\n",
        "# final_df = pd.merge(train_data, df, on=\"Name\", how=\"left\")\n",
        "# final_df['diff'] = final_df.HeadCount_x - final_df.HeadCount_y\n",
        "# print(final_df.head())\n",
        "# print(final_df['diff'].sum())\n",
        "# x = final_df[final_df['diff']!=0]\n",
        "\n",
        "# print(x.shape)\n",
        "\n",
        "\n",
        "\n",
        "  "
      ],
      "execution_count": 32,
      "outputs": [
        {
          "output_type": "stream",
          "text": [
            "Files found : 964\n",
            "Files completed 0\n",
            "time elapsed  4.109800999999607\n",
            "Files completed 20\n",
            "time elapsed  83.4945519999992\n",
            "Files completed 40\n",
            "time elapsed  83.21486499999992\n",
            "Files completed 60\n",
            "time elapsed  83.53953999999976\n",
            "Files completed 80\n",
            "time elapsed  82.60045499999978\n",
            "Files completed 100\n",
            "time elapsed  81.2986149999997\n",
            "Files completed 120\n",
            "time elapsed  79.42160999999942\n",
            "Files completed 140\n",
            "time elapsed  81.82246399999985\n",
            "Files completed 160\n",
            "time elapsed  81.99091700000008\n",
            "Files completed 180\n",
            "time elapsed  79.51372999999967\n",
            "Files completed 200\n",
            "time elapsed  81.56880900000033\n",
            "Files completed 220\n",
            "time elapsed  84.46727600000031\n",
            "Files completed 240\n",
            "time elapsed  83.95239899999979\n",
            "Files completed 260\n",
            "time elapsed  82.4776869999996\n",
            "Files completed 280\n",
            "time elapsed  79.96181799999977\n",
            "Files completed 300\n",
            "time elapsed  83.39636299999984\n",
            "Files completed 320\n",
            "time elapsed  79.92651999999907\n",
            "Files completed 340\n",
            "time elapsed  80.83606700000018\n",
            "Files completed 360\n",
            "time elapsed  81.94131700000071\n",
            "Files completed 380\n",
            "time elapsed  83.70236300000033\n",
            "Files completed 400\n",
            "time elapsed  80.94578600000023\n",
            "Files completed 420\n",
            "time elapsed  82.27240800000072\n",
            "Files completed 440\n",
            "time elapsed  83.08301100000062\n",
            "Files completed 460\n",
            "time elapsed  80.69102999999996\n",
            "Files completed 480\n",
            "time elapsed  81.27591800000118\n",
            "Files completed 500\n",
            "time elapsed  81.62423299999864\n",
            "Files completed 520\n",
            "time elapsed  83.82464599999912\n",
            "Files completed 540\n",
            "time elapsed  84.0097139999998\n",
            "Files completed 560\n",
            "time elapsed  79.92427399999906\n",
            "Files completed 580\n",
            "time elapsed  79.95673299999908\n",
            "Files completed 600\n",
            "time elapsed  80.1748009999992\n",
            "Files completed 620\n",
            "time elapsed  79.9473369999996\n",
            "Files completed 640\n",
            "time elapsed  85.74127399999998\n",
            "Files completed 660\n",
            "time elapsed  80.56377900000007\n",
            "Files completed 680\n",
            "time elapsed  82.51394400000027\n",
            "Files completed 700\n",
            "time elapsed  80.82552100000066\n",
            "Files completed 720\n",
            "time elapsed  79.34153700000024\n",
            "Files completed 740\n",
            "time elapsed  79.10408100000132\n",
            "Files completed 760\n",
            "time elapsed  80.86510099999941\n",
            "Files completed 780\n",
            "time elapsed  84.79028499999913\n",
            "Files completed 800\n",
            "time elapsed  81.64410399999906\n",
            "Files completed 820\n",
            "time elapsed  80.62321899999915\n",
            "Files completed 840\n",
            "time elapsed  80.97394499999973\n",
            "Files completed 860\n",
            "time elapsed  81.33708599999954\n",
            "Files completed 880\n",
            "time elapsed  81.96583999999893\n",
            "Files completed 900\n",
            "time elapsed  79.51017599999977\n",
            "Files completed 920\n",
            "time elapsed  80.90164999999979\n",
            "Files completed 940\n",
            "time elapsed  80.1465479999988\n",
            "Files completed 960\n",
            "time elapsed  83.10371200000009\n",
            "964\n"
          ],
          "name": "stdout"
        }
      ]
    },
    {
      "metadata": {
        "id": "hzfUyFNxubQ3",
        "colab_type": "code",
        "colab": {
          "base_uri": "https://localhost:8080/",
          "height": 195
        },
        "outputId": "2dd5f064-e124-46e9-8f10-637ecbc40e5b"
      },
      "cell_type": "code",
      "source": [
        "df.head()"
      ],
      "execution_count": 28,
      "outputs": [
        {
          "output_type": "execute_result",
          "data": {
            "text/html": [
              "<div>\n",
              "<style scoped>\n",
              "    .dataframe tbody tr th:only-of-type {\n",
              "        vertical-align: middle;\n",
              "    }\n",
              "\n",
              "    .dataframe tbody tr th {\n",
              "        vertical-align: top;\n",
              "    }\n",
              "\n",
              "    .dataframe thead th {\n",
              "        text-align: right;\n",
              "    }\n",
              "</style>\n",
              "<table border=\"1\" class=\"dataframe\">\n",
              "  <thead>\n",
              "    <tr style=\"text-align: right;\">\n",
              "      <th></th>\n",
              "      <th>HeadCount</th>\n",
              "      <th>Name</th>\n",
              "    </tr>\n",
              "  </thead>\n",
              "  <tbody>\n",
              "    <tr>\n",
              "      <th>0</th>\n",
              "      <td>3</td>\n",
              "      <td>10005.jpg</td>\n",
              "    </tr>\n",
              "    <tr>\n",
              "      <th>1</th>\n",
              "      <td>3</td>\n",
              "      <td>10009.jpg</td>\n",
              "    </tr>\n",
              "    <tr>\n",
              "      <th>2</th>\n",
              "      <td>3</td>\n",
              "      <td>10015.jpg</td>\n",
              "    </tr>\n",
              "    <tr>\n",
              "      <th>3</th>\n",
              "      <td>4</td>\n",
              "      <td>10022.jpg</td>\n",
              "    </tr>\n",
              "    <tr>\n",
              "      <th>4</th>\n",
              "      <td>4</td>\n",
              "      <td>10023.jpg</td>\n",
              "    </tr>\n",
              "  </tbody>\n",
              "</table>\n",
              "</div>"
            ],
            "text/plain": [
              "   HeadCount       Name\n",
              "0          3  10005.jpg\n",
              "1          3  10009.jpg\n",
              "2          3  10015.jpg\n",
              "3          4  10022.jpg\n",
              "4          4  10023.jpg"
            ]
          },
          "metadata": {
            "tags": []
          },
          "execution_count": 28
        }
      ]
    },
    {
      "metadata": {
        "id": "sWy1cMkptbxy",
        "colab_type": "code",
        "colab": {
          "base_uri": "https://localhost:8080/",
          "height": 50
        },
        "outputId": "250fd734-dca3-46cb-fe17-2e5e4b03a4b7"
      },
      "cell_type": "code",
      "source": [
        "%%time\n",
        "for filename in files[:5]:\n",
        "  img = dlib.load_rgb_image(path + filename)\n",
        "  dets = cnn_face_detector(img,1)\n",
        "  id = filename.split('/')[-1]\n",
        "  output.append({'Name':id,\n",
        "                 'HeadCount': len(dets)})"
      ],
      "execution_count": 25,
      "outputs": [
        {
          "output_type": "stream",
          "text": [
            "CPU times: user 19.6 s, sys: 270 ms, total: 19.9 s\n",
            "Wall time: 19.8 s\n"
          ],
          "name": "stdout"
        }
      ]
    },
    {
      "metadata": {
        "id": "A0g4QqbUngGp",
        "colab_type": "code",
        "colab": {}
      },
      "cell_type": "code",
      "source": [
        "from google.colab import files \n",
        "files.download('test_faces_found.csv')\n",
        "files.download('test_faces_found2.csv')"
      ],
      "execution_count": 0,
      "outputs": []
    }
  ]
}